{
 "cells": [
  {
   "cell_type": "markdown",
   "id": "1771c626-9f99-4221-b089-c06757bc3c47",
   "metadata": {},
   "source": [
    "# Load Dataset"
   ]
  },
  {
   "cell_type": "code",
   "execution_count": 2,
   "id": "16e3cb35-ce93-427f-aab9-22d704796f37",
   "metadata": {},
   "outputs": [
    {
     "ename": "FileNotFoundError",
     "evalue": "[Errno 2] No such file or directory: 'apple_quality.csv'",
     "output_type": "error",
     "traceback": [
      "\u001b[0;31m---------------------------------------------------------------------------\u001b[0m",
      "\u001b[0;31mFileNotFoundError\u001b[0m                         Traceback (most recent call last)",
      "Cell \u001b[0;32mIn[2], line 4\u001b[0m\n\u001b[1;32m      1\u001b[0m \u001b[38;5;28;01mimport\u001b[39;00m \u001b[38;5;21;01mpandas\u001b[39;00m \u001b[38;5;28;01mas\u001b[39;00m \u001b[38;5;21;01mpd\u001b[39;00m\n\u001b[1;32m      3\u001b[0m \u001b[38;5;66;03m# Load the dataset from CSV file\u001b[39;00m\n\u001b[0;32m----> 4\u001b[0m df \u001b[38;5;241m=\u001b[39m \u001b[43mpd\u001b[49m\u001b[38;5;241;43m.\u001b[39;49m\u001b[43mread_csv\u001b[49m\u001b[43m(\u001b[49m\u001b[38;5;124;43m\"\u001b[39;49m\u001b[38;5;124;43mapple_quality.csv\u001b[39;49m\u001b[38;5;124;43m\"\u001b[39;49m\u001b[43m)\u001b[49m\n\u001b[1;32m      6\u001b[0m \u001b[38;5;66;03m# Remove the string value from the Acidity column\u001b[39;00m\n\u001b[1;32m      7\u001b[0m df \u001b[38;5;241m=\u001b[39m df[df[\u001b[38;5;124m'\u001b[39m\u001b[38;5;124mAcidity\u001b[39m\u001b[38;5;124m'\u001b[39m] \u001b[38;5;241m!=\u001b[39m \u001b[38;5;124m'\u001b[39m\u001b[38;5;124mCreated_by_Nidula_Elgiriyewithana\u001b[39m\u001b[38;5;124m'\u001b[39m]\n",
      "File \u001b[0;32m/Library/Frameworks/Python.framework/Versions/3.11/lib/python3.11/site-packages/pandas/io/parsers/readers.py:948\u001b[0m, in \u001b[0;36mread_csv\u001b[0;34m(filepath_or_buffer, sep, delimiter, header, names, index_col, usecols, dtype, engine, converters, true_values, false_values, skipinitialspace, skiprows, skipfooter, nrows, na_values, keep_default_na, na_filter, verbose, skip_blank_lines, parse_dates, infer_datetime_format, keep_date_col, date_parser, date_format, dayfirst, cache_dates, iterator, chunksize, compression, thousands, decimal, lineterminator, quotechar, quoting, doublequote, escapechar, comment, encoding, encoding_errors, dialect, on_bad_lines, delim_whitespace, low_memory, memory_map, float_precision, storage_options, dtype_backend)\u001b[0m\n\u001b[1;32m    935\u001b[0m kwds_defaults \u001b[38;5;241m=\u001b[39m _refine_defaults_read(\n\u001b[1;32m    936\u001b[0m     dialect,\n\u001b[1;32m    937\u001b[0m     delimiter,\n\u001b[0;32m   (...)\u001b[0m\n\u001b[1;32m    944\u001b[0m     dtype_backend\u001b[38;5;241m=\u001b[39mdtype_backend,\n\u001b[1;32m    945\u001b[0m )\n\u001b[1;32m    946\u001b[0m kwds\u001b[38;5;241m.\u001b[39mupdate(kwds_defaults)\n\u001b[0;32m--> 948\u001b[0m \u001b[38;5;28;01mreturn\u001b[39;00m \u001b[43m_read\u001b[49m\u001b[43m(\u001b[49m\u001b[43mfilepath_or_buffer\u001b[49m\u001b[43m,\u001b[49m\u001b[43m \u001b[49m\u001b[43mkwds\u001b[49m\u001b[43m)\u001b[49m\n",
      "File \u001b[0;32m/Library/Frameworks/Python.framework/Versions/3.11/lib/python3.11/site-packages/pandas/io/parsers/readers.py:611\u001b[0m, in \u001b[0;36m_read\u001b[0;34m(filepath_or_buffer, kwds)\u001b[0m\n\u001b[1;32m    608\u001b[0m _validate_names(kwds\u001b[38;5;241m.\u001b[39mget(\u001b[38;5;124m\"\u001b[39m\u001b[38;5;124mnames\u001b[39m\u001b[38;5;124m\"\u001b[39m, \u001b[38;5;28;01mNone\u001b[39;00m))\n\u001b[1;32m    610\u001b[0m \u001b[38;5;66;03m# Create the parser.\u001b[39;00m\n\u001b[0;32m--> 611\u001b[0m parser \u001b[38;5;241m=\u001b[39m \u001b[43mTextFileReader\u001b[49m\u001b[43m(\u001b[49m\u001b[43mfilepath_or_buffer\u001b[49m\u001b[43m,\u001b[49m\u001b[43m \u001b[49m\u001b[38;5;241;43m*\u001b[39;49m\u001b[38;5;241;43m*\u001b[39;49m\u001b[43mkwds\u001b[49m\u001b[43m)\u001b[49m\n\u001b[1;32m    613\u001b[0m \u001b[38;5;28;01mif\u001b[39;00m chunksize \u001b[38;5;129;01mor\u001b[39;00m iterator:\n\u001b[1;32m    614\u001b[0m     \u001b[38;5;28;01mreturn\u001b[39;00m parser\n",
      "File \u001b[0;32m/Library/Frameworks/Python.framework/Versions/3.11/lib/python3.11/site-packages/pandas/io/parsers/readers.py:1448\u001b[0m, in \u001b[0;36mTextFileReader.__init__\u001b[0;34m(self, f, engine, **kwds)\u001b[0m\n\u001b[1;32m   1445\u001b[0m     \u001b[38;5;28mself\u001b[39m\u001b[38;5;241m.\u001b[39moptions[\u001b[38;5;124m\"\u001b[39m\u001b[38;5;124mhas_index_names\u001b[39m\u001b[38;5;124m\"\u001b[39m] \u001b[38;5;241m=\u001b[39m kwds[\u001b[38;5;124m\"\u001b[39m\u001b[38;5;124mhas_index_names\u001b[39m\u001b[38;5;124m\"\u001b[39m]\n\u001b[1;32m   1447\u001b[0m \u001b[38;5;28mself\u001b[39m\u001b[38;5;241m.\u001b[39mhandles: IOHandles \u001b[38;5;241m|\u001b[39m \u001b[38;5;28;01mNone\u001b[39;00m \u001b[38;5;241m=\u001b[39m \u001b[38;5;28;01mNone\u001b[39;00m\n\u001b[0;32m-> 1448\u001b[0m \u001b[38;5;28mself\u001b[39m\u001b[38;5;241m.\u001b[39m_engine \u001b[38;5;241m=\u001b[39m \u001b[38;5;28;43mself\u001b[39;49m\u001b[38;5;241;43m.\u001b[39;49m\u001b[43m_make_engine\u001b[49m\u001b[43m(\u001b[49m\u001b[43mf\u001b[49m\u001b[43m,\u001b[49m\u001b[43m \u001b[49m\u001b[38;5;28;43mself\u001b[39;49m\u001b[38;5;241;43m.\u001b[39;49m\u001b[43mengine\u001b[49m\u001b[43m)\u001b[49m\n",
      "File \u001b[0;32m/Library/Frameworks/Python.framework/Versions/3.11/lib/python3.11/site-packages/pandas/io/parsers/readers.py:1705\u001b[0m, in \u001b[0;36mTextFileReader._make_engine\u001b[0;34m(self, f, engine)\u001b[0m\n\u001b[1;32m   1703\u001b[0m     \u001b[38;5;28;01mif\u001b[39;00m \u001b[38;5;124m\"\u001b[39m\u001b[38;5;124mb\u001b[39m\u001b[38;5;124m\"\u001b[39m \u001b[38;5;129;01mnot\u001b[39;00m \u001b[38;5;129;01min\u001b[39;00m mode:\n\u001b[1;32m   1704\u001b[0m         mode \u001b[38;5;241m+\u001b[39m\u001b[38;5;241m=\u001b[39m \u001b[38;5;124m\"\u001b[39m\u001b[38;5;124mb\u001b[39m\u001b[38;5;124m\"\u001b[39m\n\u001b[0;32m-> 1705\u001b[0m \u001b[38;5;28mself\u001b[39m\u001b[38;5;241m.\u001b[39mhandles \u001b[38;5;241m=\u001b[39m \u001b[43mget_handle\u001b[49m\u001b[43m(\u001b[49m\n\u001b[1;32m   1706\u001b[0m \u001b[43m    \u001b[49m\u001b[43mf\u001b[49m\u001b[43m,\u001b[49m\n\u001b[1;32m   1707\u001b[0m \u001b[43m    \u001b[49m\u001b[43mmode\u001b[49m\u001b[43m,\u001b[49m\n\u001b[1;32m   1708\u001b[0m \u001b[43m    \u001b[49m\u001b[43mencoding\u001b[49m\u001b[38;5;241;43m=\u001b[39;49m\u001b[38;5;28;43mself\u001b[39;49m\u001b[38;5;241;43m.\u001b[39;49m\u001b[43moptions\u001b[49m\u001b[38;5;241;43m.\u001b[39;49m\u001b[43mget\u001b[49m\u001b[43m(\u001b[49m\u001b[38;5;124;43m\"\u001b[39;49m\u001b[38;5;124;43mencoding\u001b[39;49m\u001b[38;5;124;43m\"\u001b[39;49m\u001b[43m,\u001b[49m\u001b[43m \u001b[49m\u001b[38;5;28;43;01mNone\u001b[39;49;00m\u001b[43m)\u001b[49m\u001b[43m,\u001b[49m\n\u001b[1;32m   1709\u001b[0m \u001b[43m    \u001b[49m\u001b[43mcompression\u001b[49m\u001b[38;5;241;43m=\u001b[39;49m\u001b[38;5;28;43mself\u001b[39;49m\u001b[38;5;241;43m.\u001b[39;49m\u001b[43moptions\u001b[49m\u001b[38;5;241;43m.\u001b[39;49m\u001b[43mget\u001b[49m\u001b[43m(\u001b[49m\u001b[38;5;124;43m\"\u001b[39;49m\u001b[38;5;124;43mcompression\u001b[39;49m\u001b[38;5;124;43m\"\u001b[39;49m\u001b[43m,\u001b[49m\u001b[43m \u001b[49m\u001b[38;5;28;43;01mNone\u001b[39;49;00m\u001b[43m)\u001b[49m\u001b[43m,\u001b[49m\n\u001b[1;32m   1710\u001b[0m \u001b[43m    \u001b[49m\u001b[43mmemory_map\u001b[49m\u001b[38;5;241;43m=\u001b[39;49m\u001b[38;5;28;43mself\u001b[39;49m\u001b[38;5;241;43m.\u001b[39;49m\u001b[43moptions\u001b[49m\u001b[38;5;241;43m.\u001b[39;49m\u001b[43mget\u001b[49m\u001b[43m(\u001b[49m\u001b[38;5;124;43m\"\u001b[39;49m\u001b[38;5;124;43mmemory_map\u001b[39;49m\u001b[38;5;124;43m\"\u001b[39;49m\u001b[43m,\u001b[49m\u001b[43m \u001b[49m\u001b[38;5;28;43;01mFalse\u001b[39;49;00m\u001b[43m)\u001b[49m\u001b[43m,\u001b[49m\n\u001b[1;32m   1711\u001b[0m \u001b[43m    \u001b[49m\u001b[43mis_text\u001b[49m\u001b[38;5;241;43m=\u001b[39;49m\u001b[43mis_text\u001b[49m\u001b[43m,\u001b[49m\n\u001b[1;32m   1712\u001b[0m \u001b[43m    \u001b[49m\u001b[43merrors\u001b[49m\u001b[38;5;241;43m=\u001b[39;49m\u001b[38;5;28;43mself\u001b[39;49m\u001b[38;5;241;43m.\u001b[39;49m\u001b[43moptions\u001b[49m\u001b[38;5;241;43m.\u001b[39;49m\u001b[43mget\u001b[49m\u001b[43m(\u001b[49m\u001b[38;5;124;43m\"\u001b[39;49m\u001b[38;5;124;43mencoding_errors\u001b[39;49m\u001b[38;5;124;43m\"\u001b[39;49m\u001b[43m,\u001b[49m\u001b[43m \u001b[49m\u001b[38;5;124;43m\"\u001b[39;49m\u001b[38;5;124;43mstrict\u001b[39;49m\u001b[38;5;124;43m\"\u001b[39;49m\u001b[43m)\u001b[49m\u001b[43m,\u001b[49m\n\u001b[1;32m   1713\u001b[0m \u001b[43m    \u001b[49m\u001b[43mstorage_options\u001b[49m\u001b[38;5;241;43m=\u001b[39;49m\u001b[38;5;28;43mself\u001b[39;49m\u001b[38;5;241;43m.\u001b[39;49m\u001b[43moptions\u001b[49m\u001b[38;5;241;43m.\u001b[39;49m\u001b[43mget\u001b[49m\u001b[43m(\u001b[49m\u001b[38;5;124;43m\"\u001b[39;49m\u001b[38;5;124;43mstorage_options\u001b[39;49m\u001b[38;5;124;43m\"\u001b[39;49m\u001b[43m,\u001b[49m\u001b[43m \u001b[49m\u001b[38;5;28;43;01mNone\u001b[39;49;00m\u001b[43m)\u001b[49m\u001b[43m,\u001b[49m\n\u001b[1;32m   1714\u001b[0m \u001b[43m\u001b[49m\u001b[43m)\u001b[49m\n\u001b[1;32m   1715\u001b[0m \u001b[38;5;28;01massert\u001b[39;00m \u001b[38;5;28mself\u001b[39m\u001b[38;5;241m.\u001b[39mhandles \u001b[38;5;129;01mis\u001b[39;00m \u001b[38;5;129;01mnot\u001b[39;00m \u001b[38;5;28;01mNone\u001b[39;00m\n\u001b[1;32m   1716\u001b[0m f \u001b[38;5;241m=\u001b[39m \u001b[38;5;28mself\u001b[39m\u001b[38;5;241m.\u001b[39mhandles\u001b[38;5;241m.\u001b[39mhandle\n",
      "File \u001b[0;32m/Library/Frameworks/Python.framework/Versions/3.11/lib/python3.11/site-packages/pandas/io/common.py:863\u001b[0m, in \u001b[0;36mget_handle\u001b[0;34m(path_or_buf, mode, encoding, compression, memory_map, is_text, errors, storage_options)\u001b[0m\n\u001b[1;32m    858\u001b[0m \u001b[38;5;28;01melif\u001b[39;00m \u001b[38;5;28misinstance\u001b[39m(handle, \u001b[38;5;28mstr\u001b[39m):\n\u001b[1;32m    859\u001b[0m     \u001b[38;5;66;03m# Check whether the filename is to be opened in binary mode.\u001b[39;00m\n\u001b[1;32m    860\u001b[0m     \u001b[38;5;66;03m# Binary mode does not support 'encoding' and 'newline'.\u001b[39;00m\n\u001b[1;32m    861\u001b[0m     \u001b[38;5;28;01mif\u001b[39;00m ioargs\u001b[38;5;241m.\u001b[39mencoding \u001b[38;5;129;01mand\u001b[39;00m \u001b[38;5;124m\"\u001b[39m\u001b[38;5;124mb\u001b[39m\u001b[38;5;124m\"\u001b[39m \u001b[38;5;129;01mnot\u001b[39;00m \u001b[38;5;129;01min\u001b[39;00m ioargs\u001b[38;5;241m.\u001b[39mmode:\n\u001b[1;32m    862\u001b[0m         \u001b[38;5;66;03m# Encoding\u001b[39;00m\n\u001b[0;32m--> 863\u001b[0m         handle \u001b[38;5;241m=\u001b[39m \u001b[38;5;28;43mopen\u001b[39;49m\u001b[43m(\u001b[49m\n\u001b[1;32m    864\u001b[0m \u001b[43m            \u001b[49m\u001b[43mhandle\u001b[49m\u001b[43m,\u001b[49m\n\u001b[1;32m    865\u001b[0m \u001b[43m            \u001b[49m\u001b[43mioargs\u001b[49m\u001b[38;5;241;43m.\u001b[39;49m\u001b[43mmode\u001b[49m\u001b[43m,\u001b[49m\n\u001b[1;32m    866\u001b[0m \u001b[43m            \u001b[49m\u001b[43mencoding\u001b[49m\u001b[38;5;241;43m=\u001b[39;49m\u001b[43mioargs\u001b[49m\u001b[38;5;241;43m.\u001b[39;49m\u001b[43mencoding\u001b[49m\u001b[43m,\u001b[49m\n\u001b[1;32m    867\u001b[0m \u001b[43m            \u001b[49m\u001b[43merrors\u001b[49m\u001b[38;5;241;43m=\u001b[39;49m\u001b[43merrors\u001b[49m\u001b[43m,\u001b[49m\n\u001b[1;32m    868\u001b[0m \u001b[43m            \u001b[49m\u001b[43mnewline\u001b[49m\u001b[38;5;241;43m=\u001b[39;49m\u001b[38;5;124;43m\"\u001b[39;49m\u001b[38;5;124;43m\"\u001b[39;49m\u001b[43m,\u001b[49m\n\u001b[1;32m    869\u001b[0m \u001b[43m        \u001b[49m\u001b[43m)\u001b[49m\n\u001b[1;32m    870\u001b[0m     \u001b[38;5;28;01melse\u001b[39;00m:\n\u001b[1;32m    871\u001b[0m         \u001b[38;5;66;03m# Binary mode\u001b[39;00m\n\u001b[1;32m    872\u001b[0m         handle \u001b[38;5;241m=\u001b[39m \u001b[38;5;28mopen\u001b[39m(handle, ioargs\u001b[38;5;241m.\u001b[39mmode)\n",
      "\u001b[0;31mFileNotFoundError\u001b[0m: [Errno 2] No such file or directory: 'apple_quality.csv'"
     ]
    }
   ],
   "source": [
    "import pandas as pd\n",
    "\n",
    "# Load the dataset from CSV file\n",
    "df = pd.read_csv(\"apple_quality.csv\")\n",
    "\n",
    "# Remove the string value from the Acidity column\n",
    "df = df[df['Acidity'] != 'Created_by_Nidula_Elgiriyewithana']\n",
    "\n",
    "# Turn Acidity column into a float\n",
    "df['Acidity'] = pd.to_numeric(df['Acidity'])\n",
    "\n",
    "# Display column names, non-null count, and data type\n",
    "# Display row count and column count\n",
    "df.info()\n",
    "df.shape"
   ]
  },
  {
   "cell_type": "markdown",
   "id": "c7746183-3a8b-4370-b6f3-a41d09c083c8",
   "metadata": {},
   "source": [
    "# Raw Data Distribution"
   ]
  },
  {
   "cell_type": "code",
   "execution_count": null,
   "id": "14672fb8-d41f-4459-9399-e478e0faf9f4",
   "metadata": {},
   "outputs": [],
   "source": [
    "import numpy as np\n",
    "import pandas as pd\n",
    "import seaborn as sns\n",
    "import matplotlib.pyplot as plt\n",
    "\n",
    "# Plot histograms for some of the features\n",
    "features_to_plot = ['Size', 'Weight', 'Sweetness', 'Crunchiness', 'Juiciness', 'Ripeness', 'Acidity']\n",
    "plt.figure(figsize=(12, 8))\n",
    "for i, feature in enumerate(features_to_plot, 1):\n",
    "    plt.subplot(3, 3, i)\n",
    "    sns.histplot(df[feature], kde=True)\n",
    "    plt.title(feature)\n",
    "\n",
    "plt.tight_layout()\n",
    "plt.show()\n",
    "\n",
    "print(\"\\nmean:\\n{} , \\nmedian:\\n{} , \\nstd:\\n {}\".format(df[features_to_plot].mean() , df[features_to_plot].median(), df[features_to_plot].std()))"
   ]
  },
  {
   "cell_type": "markdown",
   "id": "c9a6daab-2432-472c-b6d9-a04fb7f80eba",
   "metadata": {},
   "source": [
    "# Standardization without Removing Outliers"
   ]
  },
  {
   "cell_type": "code",
   "execution_count": null,
   "id": "4ccbd77c-49b3-4201-ac09-f37ca943b4e4",
   "metadata": {},
   "outputs": [],
   "source": [
    "# Assign 'Size', 'Weight', 'Sweetness', 'Crunchiness', 'Juiciness', 'Ripeness', 'Acidity' features to X\n",
    "X = df.loc[:, ['Size', 'Weight', 'Sweetness', 'Crunchiness', 'Juiciness', 'Ripeness', 'Acidity']]\n",
    "\n",
    "# Normalizing the independent variables using z-score normalization\n",
    "data_mean = X.mean()\n",
    "data_std = X.std()\n",
    "\n",
    "# Perform z-score normalization\n",
    "normalized_X_zscore = (X - data_mean) / data_std\n",
    "\n",
    "# Plot histograms for some of the features\n",
    "plt.figure(figsize=(12, 8))\n",
    "for i, feature in enumerate(features_to_plot, 1):\n",
    "    plt.subplot(3, 3, i)\n",
    "    sns.histplot(normalized_X_zscore[feature], kde=True)\n",
    "    plt.title(feature)\n",
    "\n",
    "plt.tight_layout()\n",
    "plt.show()\n",
    "\n",
    "\n",
    "print(\"\\nmean:\\n{} , \\nmedian:\\n{} , \\nstd:\\n {}\".format(normalized_X_zscore.mean() , normalized_X_zscore.median(), normalized_X_zscore.std()))\n"
   ]
  },
  {
   "cell_type": "markdown",
   "id": "9d5a99af-13df-42ea-90b3-6f7419706862",
   "metadata": {},
   "source": [
    "# Finding Outliers"
   ]
  },
  {
   "cell_type": "code",
   "execution_count": null,
   "id": "221ee532-fb0c-4e5c-b4e9-c97aa8d750fc",
   "metadata": {},
   "outputs": [],
   "source": [
    "# Compute the IQR Q1, Q2, Q3, IQR, min and max. Visualize with a boxplot\n",
    "Q1 = X.quantile(0.25)\n",
    "Q2 = X.quantile(0.5)\n",
    "Q3 = X.quantile(0.75)\n",
    "IQR = Q3 - Q1\n",
    "min = X.min()\n",
    "max = X.max()\n",
    "\n",
    "print(\"\\nQ1:\\n{} , \\nQ2:\\n{} , \\nQ3:\\n{} , \\nIQR:\\n{} , \\nmin:\\n{} , \\nmax:\\n{}\".format(Q1, Q2, Q3, IQR, min, max))\n",
    "\n",
    "# print out the number outliers that were found\n",
    "outliers = (X < (Q1 - 1.5 * IQR)) | (X > (Q3 + 1.5 * IQR))\n",
    "print(\"\\nOutliers:\\n\", outliers.sum())"
   ]
  },
  {
   "cell_type": "code",
   "execution_count": null,
   "id": "c6368124-418c-46cb-8f38-e957728e02b5",
   "metadata": {},
   "outputs": [],
   "source": [
    "# Use the boxplot method to plot all numeric features, this gives outliers per feature\n",
    "df[['Size', 'Weight', 'Sweetness', 'Crunchiness', 'Juiciness', 'Ripeness', 'Acidity']].boxplot()\n",
    "plt.title(\"Boxplot of All Features\")\n",
    "plt.xticks(rotation=45)\n",
    "plt.tight_layout()\n",
    "plt.show()"
   ]
  },
  {
   "cell_type": "markdown",
   "id": "8e8c0341-234d-4c8a-8b46-6914ee044153",
   "metadata": {},
   "source": [
    "# Calculating lower and upper limit for determining outliers"
   ]
  },
  {
   "cell_type": "code",
   "execution_count": null,
   "id": "f08cf74f-1954-4f90-a678-9d93ff40fcae",
   "metadata": {},
   "outputs": [],
   "source": [
    "# Calculate the boundaries for each feature\n",
    "def boundaries(df, feature):\n",
    "    Q1 = df[feature].quantile(0.25)\n",
    "    Q3 = df[feature].quantile(0.75)\n",
    "    IQR = Q3 - Q1\n",
    "    lower_limit = Q1 - 1.5 * IQR\n",
    "    upper_limit = Q3 + 1.5 * IQR\n",
    "    print(feature)\n",
    "    print(lower_limit, upper_limit)\n",
    "    outliers = df[(df[feature] < lower_limit) | (df[feature] > upper_limit)]\n",
    "    #print(outliers)\n",
    "\n",
    "# Find the boundaries for the 7 features\n",
    "for i in df[['Size', 'Weight', 'Sweetness', 'Crunchiness', 'Juiciness', 'Ripeness', 'Acidity']]:\n",
    "    boundaries(df, i)"
   ]
  },
  {
   "cell_type": "markdown",
   "id": "5d37a79c-bdfa-473b-8c32-c5d57ce5f7cc",
   "metadata": {},
   "source": [
    "# Removing Outliers"
   ]
  },
  {
   "cell_type": "code",
   "execution_count": null,
   "id": "bc516b6d-a1cd-40ab-b872-58b5aff52c1f",
   "metadata": {},
   "outputs": [],
   "source": [
    "def remove_outliers(df, features):\n",
    "    # Initialize a mask that starts as all True\n",
    "    mask = pd.Series([True] * len(df))\n",
    "    \n",
    "    for feature in features:\n",
    "        Q1 = df[feature].quantile(0.25)\n",
    "        Q3 = df[feature].quantile(0.75)\n",
    "        IQR = Q3 - Q1\n",
    "        lower_limit = Q1 - 1.5 * IQR\n",
    "        upper_limit = Q3 + 1.5 * IQR\n",
    "        \n",
    "        # Update the mask to exclude outliers for the current feature\n",
    "        mask &= (df[feature] >= lower_limit) & (df[feature] <= upper_limit)\n",
    "\n",
    "    # Return the DataFrame without outliers\n",
    "    return df[mask]\n",
    "\n",
    "# Define the features\n",
    "features = ['Size', 'Weight', 'Sweetness', 'Crunchiness', 'Juiciness', 'Ripeness', 'Acidity']\n",
    "\n",
    "# Get the cleaned DataFrame\n",
    "cleaned_df = remove_outliers(df, features)\n",
    "\n",
    "cleaned_df.info()\n"
   ]
  },
  {
   "cell_type": "markdown",
   "id": "9d1afe3b-eab0-4b69-a396-10c2cb9bb3fa",
   "metadata": {},
   "source": [
    "# Boxplot after Removing Outliers"
   ]
  },
  {
   "cell_type": "code",
   "execution_count": null,
   "id": "e9dd91c2-45e0-4c7a-8550-a2b082bcafaf",
   "metadata": {},
   "outputs": [],
   "source": [
    "# Use the boxplot method to plot all numeric features, this gives outliers per feature\n",
    "cleaned_df[['Size', 'Weight', 'Sweetness', 'Crunchiness', 'Juiciness', 'Ripeness', 'Acidity']].boxplot()\n",
    "plt.title(\"Boxplot of All Features after Removing Outliers\")\n",
    "plt.xticks(rotation=45)\n",
    "plt.tight_layout()\n",
    "plt.show()"
   ]
  },
  {
   "cell_type": "code",
   "execution_count": null,
   "id": "0b489722-8011-4645-81b8-ca51be02c992",
   "metadata": {},
   "outputs": [],
   "source": [
    "# I get similar results using Marina's code\n",
    "\n",
    "# First let's see how many rows we have before dropping outliers\n",
    "print(f\"Original number of rows: {len(df)}\")\n",
    "\n",
    "# Calculate outlier boundaries and create a mask for non-outlier rows\n",
    "features = ['Size', 'Weight', 'Sweetness', 'Crunchiness', 'Juiciness', 'Ripeness', 'Acidity']\n",
    "mask = pd.Series(True, index=df.index)  # Start with all True\n",
    "\n",
    "for feature in features:\n",
    "    Q1 = df[feature].quantile(0.25)\n",
    "    Q3 = df[feature].quantile(0.75)\n",
    "    IQR = Q3 - Q1\n",
    "    \n",
    "    lower_bound = Q1 - 1.5 * IQR\n",
    "    upper_bound = Q3 + 1.5 * IQR\n",
    "    \n",
    "    # Count outliers for this feature\n",
    "    feature_outliers = df[(df[feature] < lower_bound) | (df[feature] > upper_bound)]\n",
    "    print(f\"\\n{feature}:\")\n",
    "    print(f\"Number of outliers: {len(feature_outliers)}\")\n",
    "    print(f\"Outlier boundaries: [{lower_bound:.2f}, {upper_bound:.2f}]\")\n",
    "    \n",
    "    # Update mask to exclude outliers\n",
    "    mask = mask & (df[feature] >= lower_bound) & (df[feature] <= upper_bound)\n",
    "\n",
    "# Create new dataframe without outliers, to see the diff\n",
    "df_cleaned = df[mask]\n",
    "\n",
    "print(f\"\\nNumber of rows after removing outliers: {len(df_cleaned)}\")\n",
    "print(f\"Total rows removed: {len(df) - len(df_cleaned)}\")\n",
    "\n",
    "# Plot boxplots of cleaned data\n",
    "plt.figure(figsize=(12, 6))\n",
    "df_cleaned[features].boxplot()\n",
    "plt.title(\"Boxplot of All Features After Removing Outliers\")\n",
    "plt.xticks(rotation=45)\n",
    "plt.tight_layout()\n",
    "plt.show()"
   ]
  },
  {
   "cell_type": "markdown",
   "id": "aaec2cb5-89ad-4fb1-a617-96ff8070f4dc",
   "metadata": {},
   "source": [
    "# Standardization after Removing Outliers"
   ]
  },
  {
   "cell_type": "code",
   "execution_count": null,
   "id": "e6e2cc78-f946-4bac-a9b7-e140036538e4",
   "metadata": {},
   "outputs": [],
   "source": [
    "# Assign 'Size', 'Weight', 'Sweetness', 'Crunchiness', 'Juiciness', 'Ripeness', 'Acidity' features to X_without_outlier\n",
    "X_without_outlier = cleaned_df.loc[:, ['Size', 'Weight', 'Sweetness', 'Crunchiness', 'Juiciness', 'Ripeness', 'Acidity']]\n",
    "\n",
    "# Normalizing the independent variables using z-score normalization\n",
    "data_mean_without_outlier = X_without_outlier.mean()\n",
    "data_std_without_outlier = X_without_outlier.std()\n",
    "\n",
    "# Perform z-score normalization\n",
    "normalized_X_zscore_without_outlier = (X_without_outlier - data_mean_without_outlier) / data_std_without_outlier\n",
    "\n",
    "# Plot histograms for some of the features\n",
    "plt.figure(figsize=(12, 8))\n",
    "for i, feature in enumerate(features_to_plot, 1):\n",
    "    plt.subplot(3, 3, i)\n",
    "    sns.histplot(normalized_X_zscore_without_outlier[feature], kde=True)\n",
    "    plt.title(feature)\n",
    "\n",
    "plt.tight_layout()\n",
    "plt.show()\n",
    "\n",
    "\n",
    "print(\"\\nmean:\\n{} , \\nmedian:\\n{} , \\nstd:\\n {}\".format(normalized_X_zscore_without_outlier.mean() , normalized_X_zscore_without_outlier.median(), normalized_X_zscore_without_outlier.std()))\n"
   ]
  },
  {
   "cell_type": "markdown",
   "id": "6fe9dbcf-7e12-4261-bb8d-773dfecaae43",
   "metadata": {},
   "source": [
    "# EDA"
   ]
  },
  {
   "cell_type": "markdown",
   "id": "1810f393-b10e-4849-ad31-8d5df14f1e3c",
   "metadata": {},
   "source": [
    "## Pairplot"
   ]
  },
  {
   "cell_type": "code",
   "execution_count": null,
   "id": "56109cca-3b00-43d4-b459-4372fcacdb61",
   "metadata": {},
   "outputs": [],
   "source": [
    "# drop A_id from df because it is not relevant for the pairplot\n",
    "df_eda = df.iloc[:,1:]\n",
    "\n",
    "# visualize new dataframe\n",
    "df_eda.head()\n",
    "\n",
    "\n",
    "# Hue is set to quality, meaning that points in the scatterplot and histogram are color-coded by the quality\n",
    "# good quality = blue, bad quality = orange\n",
    "custom_colors = {\n",
    "    'good': 'blue',\n",
    "    'bad': 'orange'\n",
    "}\n",
    "\n",
    "sns.pairplot(data=df_eda, hue='Quality', palette=custom_colors)\n",
    "\n",
    "plt.show()"
   ]
  },
  {
   "cell_type": "markdown",
   "id": "1473b6d3-8aa1-4a03-b510-7ba85d9186ee",
   "metadata": {},
   "source": [
    "## Correlation Matrix"
   ]
  },
  {
   "cell_type": "code",
   "execution_count": 3,
   "id": "11b266de-7668-4424-8009-9ed4616ad52b",
   "metadata": {},
   "outputs": [
    {
     "ename": "NameError",
     "evalue": "name 'df_eda' is not defined",
     "output_type": "error",
     "traceback": [
      "\u001b[0;31m---------------------------------------------------------------------------\u001b[0m",
      "\u001b[0;31mNameError\u001b[0m                                 Traceback (most recent call last)",
      "Cell \u001b[0;32mIn[3], line 2\u001b[0m\n\u001b[1;32m      1\u001b[0m \u001b[38;5;66;03m# select only numeric features from the dataset for the correlation matrix\u001b[39;00m\n\u001b[0;32m----> 2\u001b[0m corr_features \u001b[38;5;241m=\u001b[39m \u001b[43mdf_eda\u001b[49m\u001b[38;5;241m.\u001b[39mselect_dtypes(include\u001b[38;5;241m=\u001b[39m[\u001b[38;5;124m'\u001b[39m\u001b[38;5;124mint64\u001b[39m\u001b[38;5;124m'\u001b[39m, \u001b[38;5;124m'\u001b[39m\u001b[38;5;124mfloat64\u001b[39m\u001b[38;5;124m'\u001b[39m])\n\u001b[1;32m      4\u001b[0m \u001b[38;5;66;03m# use pearson correlation as data is continuous and appears normally distributed\u001b[39;00m\n\u001b[1;32m      5\u001b[0m corr_matrix \u001b[38;5;241m=\u001b[39m corr_features\u001b[38;5;241m.\u001b[39mcorr(method\u001b[38;5;241m=\u001b[39m\u001b[38;5;124m'\u001b[39m\u001b[38;5;124mpearson\u001b[39m\u001b[38;5;124m'\u001b[39m)\n",
      "\u001b[0;31mNameError\u001b[0m: name 'df_eda' is not defined"
     ]
    }
   ],
   "source": [
    "# select only numeric features from the dataset for the correlation matrix\n",
    "corr_features = df_eda.select_dtypes(include=['int64', 'float64'])\n",
    "\n",
    "# use pearson correlation as data is continuous and appears normally distributed\n",
    "corr_matrix = corr_features.corr(method='pearson')\n",
    "\n",
    "print(\"Correlation Matrix\\n\", corr_matrix)\n",
    "\n",
    "plt.figure(figsize=(10,10))\n",
    "sns.heatmap(corr_matrix, cmap='coolwarm', square=True, annot=True)\n",
    "plt.title('Correlation Matrix Heatmap')\n",
    "plt.show()"
   ]
  },
  {
   "cell_type": "markdown",
   "id": "525b6f73",
   "metadata": {},
   "source": [
    "## Skewness Analysis using Histograms"
   ]
  },
  {
   "cell_type": "code",
   "execution_count": null,
   "id": "e8d9cf1b-e3d3-43bd-82b4-a551e4556e13",
   "metadata": {},
   "outputs": [],
   "source": []
  },
  {
   "cell_type": "code",
   "execution_count": null,
   "id": "923f0eb6",
   "metadata": {},
   "outputs": [],
   "source": [
    "\n",
    "# Calculate skewness for each feature to understand the distribution shape\n",
    "skewness = df[features_to_plot].skew()\n",
    "print(\"Skewness for each feature:\\n\", skewness)\n"
   ]
  },
  {
   "cell_type": "code",
   "execution_count": null,
   "id": "abe662cb-a036-4f39-a307-dd1f68c94c22",
   "metadata": {},
   "outputs": [],
   "source": [
    "# Plotting skewness using histograms for better visualization\n",
    "plt.figure(figsize=(12, 8))\n",
    "for i, feature in enumerate(features_to_plot, 1):\n",
    "    plt.subplot(3, 3, i)\n",
    "    sns.histplot(df[feature], kde=True)\n",
    "    plt.title(f\"{feature} (Skewness: {skewness[feature]:.2f})\")\n",
    "\n",
    "plt.tight_layout()\n",
    "plt.show()\n"
   ]
  },
  {
   "cell_type": "markdown",
   "id": "5dde2577-fa64-4880-94ef-1ebbae6fe21c",
   "metadata": {},
   "source": [
    "## Variable Type Counts"
   ]
  },
  {
   "cell_type": "code",
   "execution_count": null,
   "id": "809ab4d8-b45e-4776-aaf0-6bab6b309f6d",
   "metadata": {},
   "outputs": [],
   "source": [
    "\n",
    "# Determine if there are any categorical variables, their types, and counts of unique values if applicable\n",
    "unique_counts = df.nunique()\n",
    "print(\"\\nUnique counts for each feature (number of distinct values):\\n\", unique_counts)\n",
    "\n",
    "# If there are categorical features, plot their counts to see the distribution across categories\n",
    "categorical_features = df.select_dtypes(include=['object']).columns  # Identify categorical columns if any\n",
    "\n",
    "for feature in categorical_features:\n",
    "    plt.figure(figsize=(6, 4))\n",
    "    sns.countplot(data=df, x=feature)\n",
    "    plt.title(f\"Count Plot for {feature}\")\n",
    "    plt.xticks(rotation=45)\n",
    "    plt.show()"
   ]
  },
  {
   "cell_type": "markdown",
   "id": "3fb7259b-b489-457d-80dd-9043ee946bf3",
   "metadata": {},
   "source": [
    "## Q-Q Plot"
   ]
  },
  {
   "cell_type": "code",
   "execution_count": null,
   "id": "a24f88ab-c02a-4423-a14f-1e2b3760f8c8",
   "metadata": {},
   "outputs": [],
   "source": [
    "import scipy.stats as stats\n",
    "import matplotlib.pyplot as plt\n",
    "\n",
    "for feature in features:\n",
    "    plt.figure()\n",
    "    stats.probplot(df[feature], dist=\"norm\", plot=plt)\n",
    "    plt.title(f'Q-Q plot for {feature}')\n",
    "    plt.show()"
   ]
  },
  {
   "cell_type": "code",
   "execution_count": null,
   "id": "a8fe74fb-a8a7-4189-a248-308707733ae0",
   "metadata": {},
   "outputs": [],
   "source": []
  }
 ],
 "metadata": {
  "kernelspec": {
   "display_name": "Python 3 (ipykernel)",
   "language": "python",
   "name": "python3"
  },
  "language_info": {
   "codemirror_mode": {
    "name": "ipython",
    "version": 3
   },
   "file_extension": ".py",
   "mimetype": "text/x-python",
   "name": "python",
   "nbconvert_exporter": "python",
   "pygments_lexer": "ipython3",
   "version": "3.11.3"
  }
 },
 "nbformat": 4,
 "nbformat_minor": 5
}
